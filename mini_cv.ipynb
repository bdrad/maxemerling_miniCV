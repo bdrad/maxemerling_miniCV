{
  "nbformat": 4,
  "nbformat_minor": 0,
  "metadata": {
    "kernelspec": {
      "name": "python3",
      "display_name": "Python 3"
    },
    "colab": {
      "name": "mini_cv.ipynb",
      "provenance": [],
      "collapsed_sections": [],
      "toc_visible": true
    },
    "accelerator": "GPU"
  },
  "cells": [
    {
      "cell_type": "code",
      "metadata": {
        "id": "ZIua3LeV0VEC",
        "colab_type": "code",
        "colab": {}
      },
      "source": [
        "import numpy as np\n",
        "\n",
        "%tensorflow_version 1.x\n",
        "from keras import applications\n",
        "from keras.layers import Dense, Dropout, MaxPool2D, GlobalAveragePooling2D, Flatten\n",
        "from keras.models import Model\n",
        "from keras.optimizers import Adam, SGD\n",
        "from sklearn.metrics import confusion_matrix, roc_curve\n",
        "\n",
        "import seaborn\n",
        "\n",
        "from matplotlib import pyplot as plt\n",
        "\n",
        "import random\n",
        "from random import shuffle"
      ],
      "execution_count": 0,
      "outputs": []
    },
    {
      "cell_type": "code",
      "metadata": {
        "id": "1xX7IrO3T690",
        "colab_type": "code",
        "outputId": "fc5e6e04-9a27-4873-8f37-7dfcaefb6f56",
        "colab": {
          "base_uri": "https://localhost:8080/",
          "height": 122
        }
      },
      "source": [
        "from google.colab import drive\n",
        "drive.mount('/content/drive')"
      ],
      "execution_count": 2,
      "outputs": [
        {
          "output_type": "stream",
          "text": [
            "Go to this URL in a browser: https://accounts.google.com/o/oauth2/auth?client_id=947318989803-6bn6qk8qdgf4n4g3pfee6491hc0brc4i.apps.googleusercontent.com&redirect_uri=urn%3aietf%3awg%3aoauth%3a2.0%3aoob&response_type=code&scope=email%20https%3a%2f%2fwww.googleapis.com%2fauth%2fdocs.test%20https%3a%2f%2fwww.googleapis.com%2fauth%2fdrive%20https%3a%2f%2fwww.googleapis.com%2fauth%2fdrive.photos.readonly%20https%3a%2f%2fwww.googleapis.com%2fauth%2fpeopleapi.readonly\n",
            "\n",
            "Enter your authorization code:\n",
            "··········\n",
            "Mounted at /content/drive\n"
          ],
          "name": "stdout"
        }
      ]
    },
    {
      "cell_type": "code",
      "metadata": {
        "id": "WEKE8PuLU0c8",
        "colab_type": "code",
        "colab": {}
      },
      "source": [
        "HEADER = 'drive/My Drive/Colab Notebooks/BDRAD/mini-cv/processed/'\n",
        "\n",
        "TRAIN_EXAMPLES_PATH = HEADER + 'Mass-Training-Examples.npz'\n",
        "TRAIN_LABELS_PATH = HEADER + 'Mass-Training-Labels.npz'\n",
        "\n",
        "TEST_EXAMPLES_PATH = HEADER + 'Mass-Test-Examples.npz'\n",
        "TEST_LABELS_PATH = HEADER + 'Mass-Test-Labels.npz'"
      ],
      "execution_count": 0,
      "outputs": []
    },
    {
      "cell_type": "code",
      "metadata": {
        "id": "1Yo2OFGL0VEN",
        "colab_type": "code",
        "colab": {}
      },
      "source": [
        "def load(examples_path, labels_path):\n",
        "    examples, labels = np.load(examples_path), np.load(labels_path)\n",
        "    examples, labels = examples.f.arr_0, labels.f.arr_0\n",
        "    examples = np.repeat(examples[..., np.newaxis], 3, -1)*65535\n",
        "    #examples = np.expand_dims(examples, axis=3) \n",
        "    num_labels = labels.shape[0]\n",
        "    one_hot = np.zeros([num_labels, 2])\n",
        "    for i in range(num_labels):\n",
        "        label = 0 if int(labels[i]) <= 2 else 1\n",
        "        one_hot[i][label] = 1\n",
        "    return examples, one_hot\n",
        "    "
      ],
      "execution_count": 0,
      "outputs": []
    },
    {
      "cell_type": "code",
      "metadata": {
        "id": "Td0eSjIL0VEZ",
        "colab_type": "code",
        "outputId": "ca5251b6-2464-449f-aba3-aeb487cbde6d",
        "colab": {
          "base_uri": "https://localhost:8080/",
          "height": 51
        }
      },
      "source": [
        "train_examples, train_labels = load(TRAIN_EXAMPLES_PATH, TRAIN_LABELS_PATH)\n",
        "test_examples, test_labels = load(TEST_EXAMPLES_PATH, TEST_LABELS_PATH)\n",
        "\n",
        "# from matplotlib import pyplot as plt\n",
        "# plt.imshow(train_examples[2])\n",
        "#print(np.max(test_examples[2]))\n",
        "\n",
        "# plt.imshow(65535 * np.repeat(test_examples[..., np.newaxis], 3, -1)[2])\n",
        "\n",
        "def show(number, train=True):\n",
        "  if train:\n",
        "    dataset, labels = train_examples, train_labels\n",
        "  else:\n",
        "    dataset, labels = test_examples, test_labels\n",
        "  plt.figure()\n",
        "  print('train' if train else 'test')\n",
        "  print('dense' if labels[number][0] else 'not dense')\n",
        "  plt.imshow(dataset[number])\n",
        "\n",
        "def get_perc(train=True):\n",
        "  if train:\n",
        "    dataset, name = train_labels, 'train'\n",
        "  else:\n",
        "    dataset, name = test_labels, 'test'\n",
        "\n",
        "\n",
        "  num_dense = len([label for label in dataset if label[0]])\n",
        "  print('Percent dense {0}: {1}'.format(name, num_dense / len(train_labels) * 100))\n",
        "\n",
        "get_perc(True)\n",
        "get_perc(False)"
      ],
      "execution_count": 8,
      "outputs": [
        {
          "output_type": "stream",
          "text": [
            "Percent dense train: 62.71186440677966\n",
            "Percent dense test: 26.27118644067797\n"
          ],
          "name": "stdout"
        }
      ]
    },
    {
      "cell_type": "code",
      "metadata": {
        "id": "Rlo8UUSTYoVX",
        "colab_type": "code",
        "colab": {}
      },
      "source": [
        "#normalize data to get equal numbers dense and not dense to avoid skewing model\n",
        "examples = np.concatenate([train_examples, test_examples], axis=0)\n",
        "labels = np.concatenate([train_labels, test_labels], axis=0)\n",
        "\n",
        "dense, not_dense = [], []\n",
        "for i in range(len(labels)):\n",
        "  if labels[i][0]:\n",
        "    #dense example\n",
        "    dense.append((examples[i], labels[i]))\n",
        "  else:\n",
        "    #not dense example\n",
        "    not_dense.append((examples[i], labels[i]))\n",
        "  \n",
        "if len(dense) > len(not_dense):\n",
        "  dense = dense[:len(not_dense)]\n",
        "else:\n",
        "  not_dense = not_dense[:len(dense)]\n",
        "\n",
        "cutoff = int(len(dense) * 0.9)\n",
        "\n",
        "train = dense[:cutoff] + not_dense[:cutoff]\n",
        "test = dense[cutoff:] + not_dense[cutoff:]\n",
        "\n",
        "shuffle(train)\n",
        "shuffle(test)\n",
        "\n",
        "train_examples, train_labels = zip(*train)\n",
        "test_examples, test_labels = zip(*test)\n",
        "\n",
        "train_examples = np.array(train_examples)\n",
        "train_labels = np.array(train_labels)\n",
        "test_examples = np.array(test_examples)\n",
        "test_labels = np.array(test_labels) "
      ],
      "execution_count": 0,
      "outputs": []
    },
    {
      "cell_type": "code",
      "metadata": {
        "id": "B4Jy1yCg0VEh",
        "colab_type": "code",
        "outputId": "f271f644-68aa-49fb-9177-0ca77143d70f",
        "colab": {
          "base_uri": "https://localhost:8080/",
          "height": 71
        }
      },
      "source": [
        "\"\"\"\n",
        "Modified from https://github.com/priya-dwivedi/Deep-Learning/blob/master/resnet_keras/Residual_Network_Keras.ipynb\n",
        "\"\"\"\n",
        "\n",
        "NUM_CLASSES = 2\n",
        "\n",
        "\"\"\"Tried varying levels of dropout ranging from 0.1-0.7, got best results with 0.25\"\"\"\n",
        "dropout = 0.25\n",
        "\n",
        "INPUT_SHAPE = (224, 224, 3)\n",
        "\n",
        "base_model = applications.resnet50.ResNet50(weights='imagenet', include_top=False, input_shape=INPUT_SHAPE)\n",
        "\n",
        "\"\"\"Tried only training last layers, but achieved significantly worse performance\"\"\"\n",
        "# for layer in base_model.layers:\n",
        "#   layer.trainable = False\n",
        "\n",
        "x = base_model.output\n",
        "#x = Flatten()(x)\n",
        "\n",
        "\"\"\"Prepare model for final classification\"\"\"\n",
        "x = GlobalAveragePooling2D()(x)\n",
        "\n",
        "\"\"\"Dropout layer to prevent overfitting\"\"\"\n",
        "x = Dropout(dropout)(x)\n",
        "\n",
        "\"\"\"Final dense layer for classification\"\"\"\n",
        "predictions = Dense(NUM_CLASSES, activation='softmax')(x)\n",
        "\n",
        "model = Model(inputs = base_model.input, outputs = predictions)\n",
        "\n",
        "\"\"\"Adam performed better than SGD\"\"\"\n",
        "adam = Adam(lr=0.0001)\n",
        "#sgd = SGD(lr=0.0001, momentum=0.9, decay=1e-6, nesterov=True)\n",
        "\n",
        "\"\"\"Tried binary_crossentropy vs categorical_crossentropy\"\"\"\n",
        "model.compile(optimizer=adam, loss='categorical_crossentropy', metrics=['accuracy'])"
      ],
      "execution_count": 41,
      "outputs": [
        {
          "output_type": "stream",
          "text": [
            "/usr/local/lib/python3.6/dist-packages/keras_applications/resnet50.py:265: UserWarning: The output shape of `ResNet50(include_top=False)` has been changed since Keras 2.2.0.\n",
            "  warnings.warn('The output shape of `ResNet50(include_top=False)` '\n"
          ],
          "name": "stderr"
        }
      ]
    },
    {
      "cell_type": "code",
      "metadata": {
        "scrolled": true,
        "id": "rmgsA0Cj0VEx",
        "colab_type": "code",
        "outputId": "ed545fdd-6334-49ed-af80-ce98ba8251a3",
        "colab": {
          "base_uri": "https://localhost:8080/",
          "height": 309
        }
      },
      "source": [
        "\"\"\"Tried 5, 7, 10 epochs\"\"\"\n",
        "epochs = 7\n",
        "\n",
        "\"\"\"Tried batch sizes of 8, 16, 32\"\"\"\n",
        "batch_size = 32\n",
        "\n",
        "model.fit(train_examples, train_labels, epochs=epochs, batch_size=batch_size,\n",
        "         validation_data=(test_examples, test_labels))\n",
        "\n",
        "\"\"\"\n",
        "Summary:\n",
        "I tuned a lot of parameters in an attempt to prevent overfitting as much as possible,\n",
        "but this was about the best I could get by changing the dropout, learning rate, optimizer, activation function, batch size, etc.\n",
        "I'd guess that the problems might be (1) a small dataset and (2) too big of a model, since these tend to be causes\n",
        "of overfitting. For the model, it's possible that a smaller ResNET architecture like ResNet-16 would have worked better,\n",
        "but I couldn't find an easy way to implement it in keras so I didn't think it would have been a good use of time for this\n",
        "particular mini-project.\n",
        "\"\"\""
      ],
      "execution_count": 42,
      "outputs": [
        {
          "output_type": "stream",
          "text": [
            "Train on 350 samples, validate on 40 samples\n",
            "Epoch 1/7\n",
            "350/350 [==============================] - 41s 117ms/step - loss: 0.5970 - acc: 0.7257 - val_loss: 0.7029 - val_acc: 0.6500\n",
            "Epoch 2/7\n",
            "350/350 [==============================] - 5s 14ms/step - loss: 0.1179 - acc: 0.9600 - val_loss: 0.6446 - val_acc: 0.6750\n",
            "Epoch 3/7\n",
            "350/350 [==============================] - 5s 14ms/step - loss: 0.0315 - acc: 0.9943 - val_loss: 0.6824 - val_acc: 0.7750\n",
            "Epoch 4/7\n",
            "350/350 [==============================] - 5s 14ms/step - loss: 0.0103 - acc: 1.0000 - val_loss: 0.4623 - val_acc: 0.8750\n",
            "Epoch 5/7\n",
            "350/350 [==============================] - 5s 14ms/step - loss: 0.0054 - acc: 1.0000 - val_loss: 0.3196 - val_acc: 0.9250\n",
            "Epoch 6/7\n",
            "350/350 [==============================] - 5s 15ms/step - loss: 0.0017 - acc: 1.0000 - val_loss: 0.2859 - val_acc: 0.9500\n",
            "Epoch 7/7\n",
            "350/350 [==============================] - 5s 14ms/step - loss: 0.0016 - acc: 1.0000 - val_loss: 0.2541 - val_acc: 0.9500\n"
          ],
          "name": "stdout"
        },
        {
          "output_type": "execute_result",
          "data": {
            "text/plain": [
              "\"\\nSummary:\\nI tuned a lot of parameters in an attempt to prevent overfitting as much as possible,\\nbut this was about the best I could get by changing the dropout, learning rate, optimizer, activation function, batch size, etc.\\nI'd guess that the problems might be (1) a small dataset and (2) too big of a model, since these tend to be causes\\nof overfitting. For the model, it's possible that a smaller ResNET architecture like ResNet-16 would have worked better,\\nbut I couldn't find an easy way to implement it in keras so I didn't think it would have been a good use of time for this\\nparticular mini-project.\\n\""
            ]
          },
          "metadata": {
            "tags": []
          },
          "execution_count": 42
        }
      ]
    },
    {
      "cell_type": "code",
      "metadata": {
        "id": "ifpmdnGC0VFP",
        "colab_type": "code",
        "outputId": "50a3c5a2-a41e-4972-fdc6-ede5a8cf9646",
        "colab": {
          "base_uri": "https://localhost:8080/",
          "height": 228
        }
      },
      "source": [
        "F\"\"\"\n",
        "Adapted from https://stackoverflow.com/questions/46615554/how-to-display-multiple-images-in-one-figure-correctly/46616645\n",
        "\"\"\"\n",
        "\n",
        "fig=plt.figure()\n",
        "columns = 5\n",
        "rows = 2\n",
        "for i in range(1, columns*rows +1):\n",
        "    img = examples[int(random.random() * len(examples))]\n",
        "    fig.add_subplot(rows, columns, i)\n",
        "    plt.imshow(img)\n",
        "plt.show()"
      ],
      "execution_count": 43,
      "outputs": [
        {
          "output_type": "display_data",
          "data": {
            "image/png": "[encoded data removed]",
            "text/plain": [
              "<Figure size 432x288 with 10 Axes>"
            ]
          },
          "metadata": {
            "tags": []
          }
        }
      ]
    },
    {
      "cell_type": "code",
      "metadata": {
        "id": "CJbnOBhthTg7",
        "colab_type": "code",
        "outputId": "dfedd313-3c85-4881-8beb-b45daad938f4",
        "colab": {
          "base_uri": "https://localhost:8080/",
          "height": 286
        }
      },
      "source": [
        "predictions = model.predict(test_examples)\n",
        "seaborn.heatmap(confusion_matrix(test_labels.argmax(axis=1), predictions.argmax(axis=1)),\n",
        "                yticklabels=['Actual Not Dense', 'Actual Dense'], xticklabels=['Predicted Not Dense', 'Predicted Dense'])"
      ],
      "execution_count": 44,
      "outputs": [
        {
          "output_type": "execute_result",
          "data": {
            "text/plain": [
              "<matplotlib.axes._subplots.AxesSubplot at 0x7f39106296a0>"
            ]
          },
          "metadata": {
            "tags": []
          },
          "execution_count": 44
        },
        {
          "output_type": "display_data",
          "data": {
            "image/png": "[encoded data removed]",
            "text/plain": [
              "<Figure size 432x288 with 2 Axes>"
            ]
          },
          "metadata": {
            "tags": []
          }
        }
      ]
    },
    {
      "cell_type": "code",
      "metadata": {
        "id": "kGDODLwDt-ww",
        "colab_type": "code",
        "outputId": "18d38181-fb6a-41a5-dfad-933c72cbb704",
        "colab": {
          "base_uri": "https://localhost:8080/",
          "height": 282
        }
      },
      "source": [
        "fpr, tpr, _ = roc_curve(test_labels[:,1],predictions[:,1])\n",
        "plt.plot(fpr,tpr)"
      ],
      "execution_count": 45,
      "outputs": [
        {
          "output_type": "execute_result",
          "data": {
            "text/plain": [
              "[<matplotlib.lines.Line2D at 0x7f39104c3d30>]"
            ]
          },
          "metadata": {
            "tags": []
          },
          "execution_count": 45
        },
        {
          "output_type": "display_data",
          "data": {
            "image/png": "[encoded data removed]",
            "text/plain": [
              "<Figure size 432x288 with 1 Axes>"
            ]
          },
          "metadata": {
            "tags": []
          }
        }
      ]
    },
    {
      "cell_type": "code",
      "metadata": {
        "id": "dLEfFoZMoQL0",
        "colab_type": "code",
        "colab": {}
      },
      "source": [
        ""
      ],
      "execution_count": 0,
      "outputs": []
    }
  ]
}